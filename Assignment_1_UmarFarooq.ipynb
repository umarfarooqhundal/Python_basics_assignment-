{
 "cells": [
  {
   "cell_type": "markdown",
   "id": "084305c7",
   "metadata": {},
   "source": [
    "# Task 1"
   ]
  },
  {
   "cell_type": "code",
   "execution_count": null,
   "id": "3d6942f1",
   "metadata": {},
   "outputs": [],
   "source": [
    "#part(a)"
   ]
  },
  {
   "cell_type": "code",
   "execution_count": null,
   "id": "c61177af",
   "metadata": {},
   "outputs": [],
   "source": [
    "age, name, is_student= 32, \"Umar\", True    # 3 Variables defined as age, name and is_student "
   ]
  },
  {
   "cell_type": "code",
   "execution_count": null,
   "id": "459dd82b",
   "metadata": {},
   "outputs": [],
   "source": [
    "print(age, name, is_student)               #3 variables printed "
   ]
  },
  {
   "cell_type": "code",
   "execution_count": null,
   "id": "00104ae1",
   "metadata": {},
   "outputs": [],
   "source": [
    "#part(b)"
   ]
  },
  {
   "cell_type": "code",
   "execution_count": null,
   "id": "86dec920",
   "metadata": {},
   "outputs": [],
   "source": [
    "age +=25                              #add 25 to age and print\n",
    "print(age)"
   ]
  },
  {
   "cell_type": "code",
   "execution_count": null,
   "id": "2f7a4f65",
   "metadata": {},
   "outputs": [],
   "source": [
    "name2= \"Smith\"\n",
    "print(name+name2)                      #concatenate \"Smith\" to name and then print"
   ]
  },
  {
   "cell_type": "code",
   "execution_count": null,
   "id": "fda2a97f",
   "metadata": {},
   "outputs": [],
   "source": [
    "print(is_student)                    #print boolean variable"
   ]
  },
  {
   "cell_type": "code",
   "execution_count": null,
   "id": "7a240213",
   "metadata": {},
   "outputs": [],
   "source": [
    " is_student2= not is_student       #print negation to boolean \n",
    "print(is_student2)"
   ]
  },
  {
   "cell_type": "markdown",
   "id": "19c3e391",
   "metadata": {},
   "source": [
    "# Task 2  (Area of Rectangle, given width and height of rectangle)\n"
   ]
  },
  {
   "cell_type": "code",
   "execution_count": null,
   "id": "8927d343",
   "metadata": {},
   "outputs": [],
   "source": [
    "width=5.5\n",
    "height=3.25\n",
    "Area= width*height \n",
    "print(Area)"
   ]
  },
  {
   "cell_type": "code",
   "execution_count": null,
   "id": "7182b3e8",
   "metadata": {},
   "outputs": [],
   "source": [
    "#Task 2 (b)\n",
    "\n",
    "C= 50               #Temperature in Celsius \n",
    "F= (C*9/5)+ 32      # Temperature in Fahrenheit defined in relation to Celsius scale \n",
    "print(F)            #print output \n"
   ]
  },
  {
   "cell_type": "code",
   "execution_count": null,
   "id": "81a8e54a",
   "metadata": {},
   "outputs": [],
   "source": [
    "#Task 2 (c)\n",
    "\n",
    "radius=5\n",
    "pi= 3.14159\n",
    "Area= pi*radius**2\n",
    "print(Area)\n"
   ]
  },
  {
   "cell_type": "markdown",
   "id": "10c77776",
   "metadata": {},
   "source": [
    "# Task 3\n"
   ]
  },
  {
   "cell_type": "code",
   "execution_count": null,
   "id": "ef27126e",
   "metadata": {},
   "outputs": [],
   "source": [
    "fruits= [\"apple\", \"banana\", \"orange\", \"grape\", \"kiwi\"]           #list of fruits and ouput printed \n",
    "print(fruits)"
   ]
  },
  {
   "cell_type": "code",
   "execution_count": null,
   "id": "d3a9b9bf",
   "metadata": {},
   "outputs": [],
   "source": [
    "\n",
    "#Task 3 (b)\n",
    "\n",
    "months=(\"January\", \"February\", \"March\")              #tuple containing first 3 months \n",
    "print(months)"
   ]
  },
  {
   "cell_type": "markdown",
   "id": "78ac52b1",
   "metadata": {},
   "source": [
    "# Task 4    List Manipulation   "
   ]
  },
  {
   "cell_type": "code",
   "execution_count": null,
   "id": "31283137",
   "metadata": {},
   "outputs": [],
   "source": [
    "      \n",
    "numbers = [12, 34, 45, 67, 89, 100, 23, 56]\n",
    "total = sum(numbers)                                 # Sum function used to calculate sum of all numbers \n",
    "print(total)\n"
   ]
  },
  {
   "cell_type": "code",
   "execution_count": null,
   "id": "66cf8e7b",
   "metadata": {},
   "outputs": [],
   "source": [
    "Average = sum(numbers)/ len(numbers)               #Average of numbers \n",
    "print(Average)"
   ]
  },
  {
   "cell_type": "code",
   "execution_count": null,
   "id": "4e28d3e8",
   "metadata": {},
   "outputs": [],
   "source": [
    "# Task 4 (b)   \n",
    "fruits= [\"apple\", \"banana\", \"orange\", \"grape\", \"kiwi\"]  \n",
    "fruits[0]                                                     #checks the name of first element of fruits \n",
    "fruits[-1]                                                    #checks the last name of list fruits \n",
    "fruits.remove(\"apple\")                                        #remove first element from fruits \n",
    "fruits.remove(\"kiwi\")                                         #remove last element from fruits \n",
    "print(fruits)"
   ]
  },
  {
   "cell_type": "markdown",
   "id": "708a2d72",
   "metadata": {},
   "source": [
    "# Task 5  "
   ]
  },
  {
   "cell_type": "code",
   "execution_count": null,
   "id": "9f131b6a",
   "metadata": {},
   "outputs": [],
   "source": [
    "\n",
    "\n",
    "capitals_dictionary={\"USA\": \"Washington D.C\", \"France\": \"Paris\", \"Japan\": \"Tokyo\"}"
   ]
  },
  {
   "cell_type": "code",
   "execution_count": null,
   "id": "980e70bd",
   "metadata": {},
   "outputs": [],
   "source": [
    "print(capitals_dictionary)"
   ]
  },
  {
   "cell_type": "code",
   "execution_count": null,
   "id": "e1e369e2",
   "metadata": {},
   "outputs": [],
   "source": [
    "#Task 5 (b)                          #Adding Germany & Berlin to the list of capitals \n",
    "capitals_dictionary[\"Germany\"]=\"Berlin\"\n",
    "print(capitals_dictionary)"
   ]
  },
  {
   "cell_type": "code",
   "execution_count": null,
   "id": "4feb5554",
   "metadata": {},
   "outputs": [],
   "source": [
    "#Task 5 (c)\n",
    "capitals_dictionary[\"France\"]"
   ]
  },
  {
   "cell_type": "code",
   "execution_count": null,
   "id": "e162bc19",
   "metadata": {},
   "outputs": [],
   "source": [
    "if \"France\" in capitals:\n",
    "    print(\"France is in capitals\")\n",
    "else: print(\"France is not in the capitals\")"
   ]
  },
  {
   "cell_type": "markdown",
   "id": "4f7eb9df",
   "metadata": {},
   "source": [
    "# Task 6 "
   ]
  },
  {
   "cell_type": "code",
   "execution_count": null,
   "id": "d3704d67",
   "metadata": {},
   "outputs": [],
   "source": [
    "number= int(input(\"Enter Number\"))"
   ]
  },
  {
   "cell_type": "code",
   "execution_count": null,
   "id": "1b3f0b18",
   "metadata": {},
   "outputs": [],
   "source": [
    "if number % 2 == 0:\n",
    "    print(\" The number is even\")\n",
    "else: \n",
    "    print(\"The number is odd\")"
   ]
  },
  {
   "cell_type": "code",
   "execution_count": null,
   "id": "5cd07b00",
   "metadata": {},
   "outputs": [],
   "source": [
    "#Task 6 (b)\n",
    "age = 22        #Age and GPA variable \n",
    "GPA= 3.2\n",
    "\n",
    "if age >=18 and GPA >=3:                        #conditions for elegibility of admission \n",
    "    print(\"Eligible for admission\")\n",
    "else: \n",
    "    print(\" Not eligible for admission\")\n"
   ]
  },
  {
   "cell_type": "markdown",
   "id": "f077c31b",
   "metadata": {},
   "source": [
    "# Task 7"
   ]
  },
  {
   "cell_type": "code",
   "execution_count": null,
   "id": "93c959b8",
   "metadata": {},
   "outputs": [],
   "source": [
    " \n",
    "fruits_set= {\"apple\", \"banana\", \"orange\", \"grape\", \"kiwi\"}\n",
    "print(fruits_set)"
   ]
  },
  {
   "cell_type": "code",
   "execution_count": null,
   "id": "999f8b6d",
   "metadata": {},
   "outputs": [],
   "source": [
    "A = {1, 2, 3, 4, 5}\n",
    "B = {3, 4, 5, 6, 7}\n",
    "A.union(B)\n",
    "print(\"union of A and B is\", A.union(B))   # prints the result of union of A and B set"
   ]
  },
  {
   "cell_type": "code",
   "execution_count": null,
   "id": "eec26d0f",
   "metadata": {},
   "outputs": [],
   "source": [
    "print(\"intersection of A and B is\", A.intersection(B)) # prints intersection of A and B set"
   ]
  },
  {
   "cell_type": "code",
   "execution_count": null,
   "id": "a892f113",
   "metadata": {},
   "outputs": [],
   "source": [
    "print(\"difference between A and B is\", B.difference(A)) #prints difference between A and B set"
   ]
  },
  {
   "cell_type": "code",
   "execution_count": null,
   "id": "2e6f9cc2",
   "metadata": {},
   "outputs": [],
   "source": [
    "print(\"difference between B and A is\", A.difference(B)) #prints difference between B and A set"
   ]
  },
  {
   "cell_type": "code",
   "execution_count": null,
   "id": "bbc144b8",
   "metadata": {},
   "outputs": [],
   "source": [
    "A.issubset(B)                                   #check if set A is subset of B \n",
    "print(\"Is A subset of B ?\", A.issubset(B))      # prints result "
   ]
  },
  {
   "cell_type": "markdown",
   "id": "96aedaf1",
   "metadata": {},
   "source": [
    "# Task 8"
   ]
  },
  {
   "cell_type": "code",
   "execution_count": null,
   "id": "8087745c",
   "metadata": {},
   "outputs": [],
   "source": [
    "string_var = \"Python programming is fun and powerful!\"    #string variable created \n",
    "len(string_var)                                            #calculates length of variable \n"
   ]
  },
  {
   "cell_type": "code",
   "execution_count": null,
   "id": "45d3052a",
   "metadata": {},
   "outputs": [],
   "source": [
    "print(string_var.upper())                                   #prints the variable in upper "
   ]
  },
  {
   "cell_type": "code",
   "execution_count": null,
   "id": "d6b927b5",
   "metadata": {},
   "outputs": [],
   "source": [
    "string_var2= string_var. replace(\"fun\", \"exciting\")         #replace fun with exciting using replace function\n",
    "print(string_var2)                                          #prints new variable "
   ]
  },
  {
   "cell_type": "code",
   "execution_count": null,
   "id": "cbf5888d",
   "metadata": {},
   "outputs": [],
   "source": [
    "string_var = \"Python programming is fun and powerful!\" \n",
    "\n",
    "if \"Python\" in string_var:                                # Using if condition we can check if string_var contains Python or not\n",
    "    print(\"String contains word Python\")\n",
    "else: print(\"string doesn not contains word Python\")"
   ]
  },
  {
   "cell_type": "code",
   "execution_count": null,
   "id": "3ae63352",
   "metadata": {},
   "outputs": [],
   "source": [
    "string_var = \"Python programming is fun and powerful!\" \n",
    "words= string_var.split()                                  #using split function we converted string to list of words \n",
    "print(words)\n"
   ]
  }
 ],
 "metadata": {
  "kernelspec": {
   "display_name": "Python 3 (ipykernel)",
   "language": "python",
   "name": "python3"
  },
  "language_info": {
   "codemirror_mode": {
    "name": "ipython",
    "version": 3
   },
   "file_extension": ".py",
   "mimetype": "text/x-python",
   "name": "python",
   "nbconvert_exporter": "python",
   "pygments_lexer": "ipython3",
   "version": "3.11.5"
  }
 },
 "nbformat": 4,
 "nbformat_minor": 5
}
